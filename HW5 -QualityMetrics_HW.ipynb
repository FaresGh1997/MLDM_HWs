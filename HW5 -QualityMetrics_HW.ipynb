{
  "cells": [
    {
      "cell_type": "markdown",
      "metadata": {
        "id": "Ij_zY4soDF2Z"
      },
      "source": [
        "# Cross-validation riddle"
      ]
    },
    {
      "cell_type": "markdown",
      "metadata": {
        "id": "qUCsY5OlDJPl"
      },
      "source": [
        "Here's a small example of cross-validation done wrongly. Can you spot the problem?"
      ]
    },
    {
      "cell_type": "code",
      "execution_count": 15,
      "metadata": {
        "id": "mSUzkXsC-R4H"
      },
      "outputs": [],
      "source": [
        "# Some imports...\n",
        "import numpy as np\n",
        "import matplotlib.pyplot as plt\n",
        "\n",
        "from sklearn.svm import LinearSVC\n",
        "from sklearn.model_selection import KFold, cross_val_score\n",
        "from sklearn.metrics import accuracy_score"
      ]
    },
    {
      "cell_type": "markdown",
      "metadata": {
        "id": "ZyDp3Xc_DaDM"
      },
      "source": [
        "**Plan:**\n",
        "\n",
        "- Let's create a binary classification dataset where targets are completely independent from the features\n",
        "  - *(i.e. no model could ever predict them well)*\n",
        "- We'll do some simple feature selection\n",
        "- And cross-validate a model on this data\n",
        "\n",
        "**Q:** what accuracy do we expect (classes are even)?"
      ]
    },
    {
      "cell_type": "markdown",
      "metadata": {
        "id": "IHx51DKP8Rcf"
      },
      "source": [
        "We'll start from writing a class to select the best features:"
      ]
    },
    {
      "cell_type": "code",
      "execution_count": 16,
      "metadata": {
        "id": "rRNmKZJJ8W7x"
      },
      "outputs": [],
      "source": [
        "class FeatureSelector:\n",
        "  def __init__(self, num_features):\n",
        "    self.n = num_features # number of best features to select\n",
        "\n",
        "  def fit(self, X, y):\n",
        "    # Select features that describe the targets best, i.e. have\n",
        "    # highest correlation with them:\n",
        "    covariance = ((X - X.mean(axis=0)) * (y[:,np.newaxis] - y.mean())).mean(axis=0)\n",
        "    self.best_feature_ids = np.argsort(np.abs(covariance))[-self.n:]\n",
        "\n",
        "  def transform(self, X):\n",
        "    return X[:,self.best_feature_ids]\n",
        "\n",
        "  def fit_transform(self, X, y):\n",
        "    self.fit(X, y)\n",
        "    return self.transform(X)"
      ]
    },
    {
      "cell_type": "code",
      "execution_count": 17,
      "metadata": {
        "colab": {
          "base_uri": "https://localhost:8080/"
        },
        "id": "6mu9gHgNBk_V",
        "outputId": "43c7b62c-cd2c-406e-d08f-ac8d1c3af9c5"
      },
      "outputs": [
        {
          "output_type": "stream",
          "name": "stdout",
          "text": [
            "CV score is 0.99\n"
          ]
        }
      ],
      "source": [
        "#from sklearn.model_selection import train_test_split\n",
        "num_features_total = 1000\n",
        "num_features_best = 100\n",
        "\n",
        "N = 100\n",
        "#N = 10000\n",
        "# Dataset generation\n",
        "X = np.random.normal(size=(N, num_features_total))\n",
        "y = np.random.randint(2, size=N)\n",
        "\n",
        "# Feature selection:\n",
        "X_best = FeatureSelector(num_features_best).fit_transform(X, y)\n",
        "\n",
        "\n",
        "#X_train, X_test, y_train, y_test = train_test_split( X, y, test_size=0.33, random_state=42)\n",
        "# Simple classification model\n",
        "#model = LinearSVC()\n",
        "\n",
        "#model.fit(X_train , y_train)\n",
        "#predict =model.predict(X_test)\n",
        "#print (accuracy_score(y_test, predict))\n",
        "\n",
        "# Estimatin accuracy using cross-validation:\n",
        "cv_score = cross_val_score(model, X_best, y, scoring='accuracy', cv=10, n_jobs=-1).mean()\n",
        "#cv_score = cross_val_score(model, X, y, scoring='accuracy', cv=10, n_jobs=-1).mean()\n",
        "print(f\"CV score is {cv_score}\")"
      ]
    },
    {
      "cell_type": "markdown",
      "metadata": {
        "id": "afadN3ZVFKjF"
      },
      "source": [
        "What's going on?! Why accuracy is so high?\n",
        "\n",
        "Maybe it just happened by chance? Let's repeat this experiment many times and histogram the results:"
      ]
    },
    {
      "cell_type": "code",
      "execution_count": 18,
      "metadata": {
        "colab": {
          "base_uri": "https://localhost:8080/",
          "height": 265
        },
        "id": "QDbOMXnuC6uw",
        "outputId": "6e75a369-13f4-4179-b3d6-7f7d780c1b29"
      },
      "outputs": [
        {
          "output_type": "display_data",
          "data": {
            "text/plain": [
              "<Figure size 432x288 with 1 Axes>"
            ],
            "image/png": "[encoded data removed]"
          },
          "metadata": {
            "needs_background": "light"
          }
        }
      ],
      "source": [
        "num_features_total = 1000\n",
        "num_features_best = 100\n",
        "\n",
        "N = 100\n",
        "def experiment():\n",
        "  # Dataset generation\n",
        "  X = np.random.normal(size=(N, num_features_total))\n",
        "  y = np.random.randint(2, size=N)\n",
        "\n",
        "  # Feature selection:\n",
        "  X_best = FeatureSelector(num_features_best).fit_transform(X, y)\n",
        "\n",
        "  # Simple classification model\n",
        "  model = LinearSVC()\n",
        "\n",
        "  # Estimatin accuracy using cross-validation:\n",
        "  return cross_val_score(model, X_best, y, scoring='accuracy', cv=10, n_jobs=-1).mean()\n",
        "  #return cross_val_score(model, X, y, scoring='accuracy', cv=10, n_jobs=-1).mean()\n",
        "\n",
        "results = [experiment() for _ in range(100)]\n",
        "plt.hist(results, bins=10);"
      ]
    },
    {
      "cell_type": "markdown",
      "metadata": {
        "id": "DMYRjjqOLB5Z"
      },
      "source": [
        "## Task 1 (3 points)"
      ]
    },
    {
      "cell_type": "markdown",
      "metadata": {
        "id": "8bLaEypoF5pb"
      },
      "source": [
        "Explain why the estimated model accuracy is not 50% on a dataset where targets were generated **independently from the features (!!!)**.\n",
        "\n",
        "Find and fix the problem (don't change the dataset generation or its parameters - `num_features_total`, `num_features_best`, `N`).\n",
        "\n",
        "*Hint: the problem is in the overall logic, and not a bug in the code.*"
      ]
    },
    {
      "cell_type": "markdown",
      "source": [
        "Answer : The Problem is that we are doing feature selection which means that we are getting rid of the features that are loosly correlated with the data and taking the best features (even if the features are generated randomly but we are taking the best random features there is).\n",
        "\n",
        "below we are trying to see how not taking feature selection is going to affect the accuracy"
      ],
      "metadata": {
        "id": "VQLNdCKD7_37"
      }
    },
    {
      "cell_type": "code",
      "execution_count": 19,
      "metadata": {
        "id": "EfT36WPTLyqB",
        "outputId": "fefd224f-cee1-4359-a53c-fb603fb3df14",
        "colab": {
          "base_uri": "https://localhost:8080/"
        }
      },
      "outputs": [
        {
          "output_type": "stream",
          "name": "stdout",
          "text": [
            "CV score is 0.48\n"
          ]
        }
      ],
      "source": [
        "#from sklearn.model_selection import train_test_split\n",
        "num_features_total = 1000\n",
        "num_features_best = 100\n",
        "\n",
        "N = 100\n",
        "#N = 10000\n",
        "# Dataset generation\n",
        "X = np.random.normal(size=(N, num_features_total))\n",
        "y = np.random.randint(2, size=N)\n",
        "\n",
        "# Feature selection:\n",
        "#X_best = FeatureSelector(num_features_best).fit_transform(X, y)\n",
        "\n",
        "\n",
        "#X_train, X_test, y_train, y_test = train_test_split( X, y, test_size=0.33, random_state=42)\n",
        "# Simple classification model\n",
        "model = LinearSVC()\n",
        "\n",
        "#model.fit(X_train , y_train)\n",
        "#predict =model.predict(X_test)\n",
        "#print (accuracy_score(y_test, predict))\n",
        "\n",
        "# Estimatin accuracy using cross-validation:\n",
        "#cv_score = cross_val_score(model, X_best, y, scoring='accuracy', cv=10, n_jobs=-1).mean()\n",
        "cv_score = cross_val_score(model, X, y, scoring='accuracy', cv=10, n_jobs=-1).mean()\n",
        "print(f\"CV score is {cv_score}\")"
      ]
    },
    {
      "cell_type": "markdown",
      "source": [
        "on the other hand : the Cv score does not reach the value of 0.5 exactly becuase of: First the small number of the data as input (N = 100) and Second the Cross-Validation step on the data, Third the number target input from class (0) dosen't match number of target input from the other class (1)"
      ],
      "metadata": {
        "id": "t6unl0f18x7D"
      }
    },
    {
      "cell_type": "code",
      "source": [
        "print (len([t  for t in y  if t ==0 ]))"
      ],
      "metadata": {
        "id": "Ninagbsh9bFr",
        "outputId": "fcd498e1-c9c2-44af-d129-c36371d86d58",
        "colab": {
          "base_uri": "https://localhost:8080/"
        }
      },
      "execution_count": 20,
      "outputs": [
        {
          "output_type": "stream",
          "name": "stdout",
          "text": [
            "46\n"
          ]
        }
      ]
    },
    {
      "cell_type": "markdown",
      "metadata": {
        "id": "EWXH9KUuu8qE"
      },
      "source": [
        "## Task 2 (3 points)"
      ]
    },
    {
      "cell_type": "markdown",
      "metadata": {
        "id": "CcF_iCFLu8qF"
      },
      "source": [
        "Let's come back to Task 3 of Data Handling HW.\n",
        "Build a model with KNeighborsClassifier to get a higher accuracy on 5-fold Cross Validation than you achieve using your previosly fitted model (you can just copy the params from the previous notebook). \n",
        "\n",
        "Use `sklearn.model_selection.GridSearchCV` to find best parameters.  You may check the parameters'  description as follows:\n",
        "``` python\n",
        "help(KNeighborsClassifier)\n",
        "``` "
      ]
    },
    {
      "cell_type": "code",
      "execution_count": 21,
      "metadata": {
        "id": "8sWqS04Iu8qF",
        "outputId": "674d77e1-a5d9-4eef-dd5f-ffb76e68be1c",
        "colab": {
          "base_uri": "https://localhost:8080/"
        }
      },
      "outputs": [
        {
          "output_type": "stream",
          "name": "stdout",
          "text": [
            "--2022-12-24 07:13:44--  https://raw.githubusercontent.com/HSE-LAMBDA/MLDM-2022/main/01-intro/train.csv\n",
            "Resolving raw.githubusercontent.com (raw.githubusercontent.com)... 185.199.111.133, 185.199.108.133, 185.199.109.133, ...\n",
            "Connecting to raw.githubusercontent.com (raw.githubusercontent.com)|185.199.111.133|:443... connected.\n",
            "HTTP request sent, awaiting response... 200 OK\n",
            "Length: 60302 (59K) [text/plain]\n",
            "Saving to: ‘train.csv’\n",
            "\n",
            "\rtrain.csv             0%[                    ]       0  --.-KB/s               \rtrain.csv           100%[===================>]  58.89K  --.-KB/s    in 0.001s  \n",
            "\n",
            "2022-12-24 07:13:44 (53.4 MB/s) - ‘train.csv’ saved [60302/60302]\n",
            "\n"
          ]
        }
      ],
      "source": [
        "!wget https://raw.githubusercontent.com/HSE-LAMBDA/MLDM-2022/main/01-intro/train.csv"
      ]
    },
    {
      "cell_type": "code",
      "execution_count": 22,
      "metadata": {
        "id": "RieVv-KKu8qF"
      },
      "outputs": [],
      "source": [
        "import pandas as pd\n",
        "from sklearn.metrics import accuracy_score\n",
        "from sklearn.model_selection import GridSearchCV\n",
        "from sklearn.neighbors import KNeighborsClassifier\n",
        "from sklearn.pipeline import make_pipeline\n",
        "\n",
        "data = pd.read_csv(\"train.csv\", index_col='PassengerId')"
      ]
    },
    {
      "cell_type": "code",
      "source": [
        "def feature_selection_and_preprocessing(dataset):\n",
        "  #getting rid of tickets and cabins numbers\n",
        "  data = dataset.drop(['Ticket','Cabin'],axis =1)\n",
        "  \n",
        "  # droping names \n",
        "  data = data.drop(['Name'], axis=1)\n",
        "\n",
        "  # convert sex from catigorical to numerical\n",
        "  data['Sex'] = data['Sex'].map( {'female': 1, 'male': 0} ).astype(int)\n",
        "  \n",
        "\n",
        "  #messuring the family for each passenger and creating a new feature which is IsAlone \n",
        "\n",
        "  data['FamilySize'] = data['SibSp'] + data['Parch'] + 1\n",
        "  data['IsAlone'] = 0\n",
        "  data.loc[data['FamilySize'] == 1, 'IsAlone'] = 1\n",
        "  data = data.drop(['Parch', 'SibSp', 'FamilySize'], axis=1)\n",
        "\n",
        "  #fill embarked missing values and convert to numerical\n",
        "  freq_port = data.Embarked.dropna().mode()[0]\n",
        "  data['Embarked'] = data['Embarked'].fillna(freq_port)\n",
        "  data['Embarked'] = data['Embarked'].map( {'S': 0, 'C': 1, 'Q': 2} ).astype(int)\n",
        "\n",
        "  # convert fare into ranges  \n",
        "  # note that we can get those rages by using pd.qcut(data['Fare'], 4)\n",
        "\n",
        "  data['Fare'].fillna(data['Fare'].dropna().median(), inplace=True)\n",
        "  data.loc[ data['Fare'] <= 7.91, 'Fare'] = 0\n",
        "  data.loc[(data['Fare'] > 7.91) & (data['Fare'] <= 14.454), 'Fare'] = 1\n",
        "  data.loc[(data['Fare'] > 14.454) & (data['Fare'] <= 31), 'Fare']   = 2\n",
        "  data.loc[ data['Fare'] > 31, 'Fare'] = 3\n",
        "  data['Fare'] = data['Fare'].astype(int)\n",
        "\n",
        "\n",
        "  #fill na in Age with mean\n",
        "  mean_value=data['Age'].mean()\n",
        "  data['Age'] = data['Age'].fillna(mean_value)\n",
        "\n",
        "  #replace age based on bands into 5 catigories we can aquire those bands by running pd.qcut(data['Age'], 5)\n",
        "  data.loc[ data['Age'] <= 16, 'Age'] = 0\n",
        "  data.loc[(data['Age'] > 16) & (data['Age'] <= 32), 'Age'] = 1\n",
        "  data.loc[(data['Age'] > 32) & (data['Age'] <= 48), 'Age'] = 2\n",
        "  data.loc[(data['Age'] > 48) & (data['Age'] <= 64), 'Age'] = 3\n",
        "  data.loc[ data['Age'] > 64, 'Age'] = 4\n",
        "\n",
        "  data['Age'] = data['Age'].astype(int)\n",
        "\n",
        "  return data"
      ],
      "metadata": {
        "id": "Gj7JsE0hzYFJ"
      },
      "execution_count": 23,
      "outputs": []
    },
    {
      "cell_type": "code",
      "source": [
        "data_train = data.iloc[:-100]\n",
        "data_test = data.iloc[-100:]"
      ],
      "metadata": {
        "id": "Cda3BG5b2c3B"
      },
      "execution_count": 24,
      "outputs": []
    },
    {
      "cell_type": "code",
      "source": [
        "base_model = KNeighborsClassifier()\n",
        "\n",
        "k_range = list(range(1, 10))\n",
        "param_grid = dict(n_neighbors=k_range)\n",
        "\n",
        "gscv = GridSearchCV(base_model, param_grid, scoring='accuracy', cv=5, n_jobs=-1)\n",
        "\n",
        "X = feature_selection_and_preprocessing(\n",
        "        data_test.drop('Survived', axis=1)\n",
        "    )\n",
        "y = data_test['Survived']\n",
        "gscv.fit(X, y)\n",
        "print(gscv.best_params_)"
      ],
      "metadata": {
        "id": "CJ5Ms5fG0XjS",
        "outputId": "95089199-e967-4a37-b7c1-f7b5a72e5edb",
        "colab": {
          "base_uri": "https://localhost:8080/"
        }
      },
      "execution_count": 25,
      "outputs": [
        {
          "output_type": "stream",
          "name": "stdout",
          "text": [
            "{'n_neighbors': 3}\n"
          ]
        }
      ]
    },
    {
      "cell_type": "code",
      "source": [
        "model = KNeighborsClassifier(\n",
        "    n_neighbors=gscv.best_params_['n_neighbors']\n",
        ")"
      ],
      "metadata": {
        "id": "PXuE9Myw0akk"
      },
      "execution_count": 26,
      "outputs": []
    },
    {
      "cell_type": "code",
      "source": [
        "model.fit(\n",
        "    feature_selection_and_preprocessing(\n",
        "        data_train.drop('Survived', axis=1)\n",
        "    ),\n",
        "    data_train['Survived']\n",
        ")\n"
      ],
      "metadata": {
        "id": "qiC30-2QzdTS",
        "outputId": "6083612e-7610-473e-e225-4cc875b53cd0",
        "colab": {
          "base_uri": "https://localhost:8080/"
        }
      },
      "execution_count": 27,
      "outputs": [
        {
          "output_type": "execute_result",
          "data": {
            "text/plain": [
              "KNeighborsClassifier(n_neighbors=3)"
            ]
          },
          "metadata": {},
          "execution_count": 27
        }
      ]
    },
    {
      "cell_type": "code",
      "source": [
        "test_predictions = model.predict(\n",
        "    feature_selection_and_preprocessing(\n",
        "        data_test.drop('Survived', axis=1)\n",
        "    )\n",
        ")"
      ],
      "metadata": {
        "id": "78qplD8D2u04"
      },
      "execution_count": 28,
      "outputs": []
    },
    {
      "cell_type": "code",
      "source": [
        "print(\"Test accuracy:\", accuracy_score(\n",
        "    data_test['Survived'],\n",
        "    test_predictions\n",
        "))"
      ],
      "metadata": {
        "id": "xXZTPqaK2zHn",
        "outputId": "c0112ce2-a13f-48f5-f7a7-7eb41aca616d",
        "colab": {
          "base_uri": "https://localhost:8080/"
        }
      },
      "execution_count": 29,
      "outputs": [
        {
          "output_type": "stream",
          "name": "stdout",
          "text": [
            "Test accuracy: 0.85\n"
          ]
        }
      ]
    },
    {
      "cell_type": "markdown",
      "source": [
        "as we could see theGridSearch yielded the same results for the parmeter 'n-neighbors' that we used in the previous HW hence the same accuracy was produced"
      ],
      "metadata": {
        "id": "qmO-Ugbw-y_9"
      }
    },
    {
      "cell_type": "code",
      "source": [],
      "metadata": {
        "id": "Od2yQpLxzQ6n"
      },
      "execution_count": 29,
      "outputs": []
    }
  ],
  "metadata": {
    "colab": {
      "name": "QualityMetrics_HW.ipynb",
      "provenance": []
    },
    "kernelspec": {
      "display_name": "Python 3 (ipykernel)",
      "language": "python",
      "name": "python3"
    },
    "language_info": {
      "codemirror_mode": {
        "name": "ipython",
        "version": 3
      },
      "file_extension": ".py",
      "mimetype": "text/x-python",
      "name": "python",
      "nbconvert_exporter": "python",
      "pygments_lexer": "ipython3",
      "version": "3.8.11"
    }
  },
  "nbformat": 4,
  "nbformat_minor": 0
}