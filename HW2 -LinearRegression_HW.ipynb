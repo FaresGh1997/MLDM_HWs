{
  "cells": [
    {
      "cell_type": "code",
      "execution_count": 50,
      "metadata": {
        "id": "OoRenk6WqY4R"
      },
      "outputs": [],
      "source": [
        "import numpy as np\n",
        "import matplotlib.pyplot as plt"
      ]
    },
    {
      "cell_type": "markdown",
      "metadata": {
        "id": "s8renktssa3B"
      },
      "source": [
        "## Task 1 (3 points)"
      ]
    },
    {
      "cell_type": "markdown",
      "metadata": {
        "id": "CT2JoHS6qwO3"
      },
      "source": [
        "Consider the following toy dataset:"
      ]
    },
    {
      "cell_type": "code",
      "execution_count": 111,
      "metadata": {
        "colab": {
          "base_uri": "https://localhost:8080/",
          "height": 265
        },
        "id": "Iw0VSmXsqjt9",
        "outputId": "a9253380-a25f-4a06-9f6c-c93b37896a03"
      },
      "outputs": [
        {
          "output_type": "display_data",
          "data": {
            "text/plain": [
              "<Figure size 432x288 with 1 Axes>"
            ],
            "image/png": "[encoded data removed]"
          },
          "metadata": {
            "needs_background": "light"
          }
        }
      ],
      "source": [
        "true_function = lambda x: 3.25 * x - 1.47\n",
        "noize_function = lambda x: (\n",
        "    np.random.normal(size=len(x)) * 4. +\n",
        "    np.where(\n",
        "        x < 15,\n",
        "        0.,\n",
        "        -60 + np.random.normal(size=len(x)) * 10\n",
        "    ) * (np.random.uniform(size=len(x)) < 0.4).astype(int)\n",
        ")\n",
        "limits = (-4., 20.)\n",
        "\n",
        "def generate_dataset(N=300):\n",
        "  x = np.random.uniform(*limits, size=N)\n",
        "  y = true_function(x) + noize_function(x)\n",
        "\n",
        "  return x[:,None], y\n",
        "\n",
        "X, y = generate_dataset()\n",
        "\n",
        "x = np.linspace(*limits, 101)\n",
        "plt.plot(x, true_function(x), c='black', label='True dependence')\n",
        "plt.scatter(X, y, s=10, label='Data with noise and outliers')\n",
        "plt.legend();"
      ]
    },
    {
      "cell_type": "markdown",
      "metadata": {
        "id": "Hb2ZSiiiscQy"
      },
      "source": [
        "Implement a linear model $\\hat y(x|w) = w_1\\cdot x + w_0$ with MAE loss:\n",
        "$$\\text{MAE}(w) = \\frac{1}{N}\\sum_{i=1}^N\\left|y_i - \\hat y(x_i|w)\\right|,$$\n",
        "using gradient descent optimization in `numpy`.\n",
        "\n",
        "*Hint: introduce a constant feature to account for the bias term to make the formulas simpler.*\n",
        "\n",
        "Plot the learning curve and the final fit. Also, fit the same data with `sklearn`'s `LinearRegression`, and compare the two fits on the same plot. What do you observe? Write a short comment."
      ]
    },
    {
      "cell_type": "code",
      "source": [
        "from tqdm import trange, tqdm"
      ],
      "metadata": {
        "id": "Ah6zN6wpqnof"
      },
      "execution_count": 52,
      "outputs": []
    },
    {
      "cell_type": "code",
      "execution_count": 53,
      "metadata": {
        "colab": {
          "base_uri": "https://localhost:8080/"
        },
        "id": "8dUH95L7sETn",
        "outputId": "5eb4fb8b-1da5-4743-fb26-0ccbe97a6281"
      },
      "outputs": [
        {
          "output_type": "stream",
          "name": "stderr",
          "text": [
            "100%|██████████| 1000/1000 [00:00<00:00, 17889.44it/s]\n"
          ]
        }
      ],
      "source": [
        "\n",
        "#introduce a constant feature to account for the bias term to make the formulas simpler.\n",
        "X_tmp = np.column_stack((X, np.ones(len(X))))\n",
        "\n",
        "#initializing w\n",
        "w  = np.random.randn(len(X_tmp[0]))\n",
        "\n",
        "#loss vlaues in list\n",
        "loss_values = []\n",
        "learning_rate = 0.1\n",
        "\n",
        "\n",
        "# Training loop\n",
        "for _ in trange(1000):\n",
        "  # Your turn: calculate the gradient of MAE with respect to w:\n",
        "  g_sign = np.sign(X_tmp @ w - y)\n",
        "  gradient = np.sum(X_tmp * g_sign.reshape(len(X_tmp),1)/len(X_tmp) , axis = 0)\n",
        "\n",
        "  # Gradient descent step\n",
        "  w -= learning_rate * gradient\n",
        "\n",
        "  # Calculate and record the new loss value\n",
        "  loss_values.append(\n",
        "      np.mean(np.abs(X_tmp @ w - y))\n",
        "  )\n",
        "\n"
      ]
    },
    {
      "cell_type": "code",
      "source": [
        "# Plotting the evolution of loss values\n",
        "plt.plot(loss_values);\n",
        "plt.show()"
      ],
      "metadata": {
        "id": "nMNU6X1PySVr",
        "outputId": "743a3a22-5e03-4dc1-d185-5c231c06c329",
        "colab": {
          "base_uri": "https://localhost:8080/",
          "height": 265
        }
      },
      "execution_count": 54,
      "outputs": [
        {
          "output_type": "display_data",
          "data": {
            "text/plain": [
              "<Figure size 432x288 with 1 Axes>"
            ],
            "image/png": "[encoded data removed]"
          },
          "metadata": {
            "needs_background": "light"
          }
        }
      ]
    },
    {
      "cell_type": "code",
      "source": [
        "from sklearn.linear_model import LinearRegression\n",
        "\n",
        "model = LinearRegression()\n",
        "\n",
        "model.fit(X, y)"
      ],
      "metadata": {
        "id": "dnXhfKnHWHei",
        "outputId": "f85687e9-280d-47ff-b582-a2517787b538",
        "colab": {
          "base_uri": "https://localhost:8080/"
        }
      },
      "execution_count": 55,
      "outputs": [
        {
          "output_type": "execute_result",
          "data": {
            "text/plain": [
              "LinearRegression()"
            ]
          },
          "metadata": {},
          "execution_count": 55
        }
      ]
    },
    {
      "cell_type": "code",
      "source": [
        "limits = (-4., 20.)\n",
        "x = np.linspace(*limits, 101)\n",
        "x_expanded = np.column_stack((x, np.ones(len(x))))\n",
        "plt.plot(x, true_function(x), c='black', label='True dependence')\n",
        "plt.scatter(X, y, s=10, label='Data with noise and outliers')\n",
        "plt.plot(x, x_expanded @ w,c ='orange', label='prediction')\n",
        "plt.plot(x, model.predict(x[:,None]),c= 'Red', label='LinearRegressrion prediction')\n",
        "plt.legend();\n"
      ],
      "metadata": {
        "id": "Qehuz0TZyWNd",
        "outputId": "0759b9cf-5423-4253-9b0d-ee951fab7ab0",
        "colab": {
          "base_uri": "https://localhost:8080/",
          "height": 265
        }
      },
      "execution_count": 56,
      "outputs": [
        {
          "output_type": "display_data",
          "data": {
            "text/plain": [
              "<Figure size 432x288 with 1 Axes>"
            ],
            "image/png": "[encoded data removed]"
          },
          "metadata": {
            "needs_background": "light"
          }
        }
      ]
    },
    {
      "cell_type": "code",
      "source": [
        "print(model.coef_, model.intercept_)"
      ],
      "metadata": {
        "id": "3zYYlX6dWAwO",
        "outputId": "a70c24d9-b250-4cd1-a547-22675e4f0668",
        "colab": {
          "base_uri": "https://localhost:8080/"
        }
      },
      "execution_count": 57,
      "outputs": [
        {
          "output_type": "stream",
          "name": "stdout",
          "text": [
            "[2.16798992] 2.475440436373688\n"
          ]
        }
      ]
    },
    {
      "cell_type": "code",
      "source": [
        "print (w)"
      ],
      "metadata": {
        "id": "fvSeqgC7V95j",
        "outputId": "90d1b4ec-7a6b-44bf-96b7-a43288bf0ff1",
        "colab": {
          "base_uri": "https://localhost:8080/"
        }
      },
      "execution_count": 58,
      "outputs": [
        {
          "output_type": "stream",
          "name": "stdout",
          "text": [
            "[ 3.04774009 -0.29404279]\n"
          ]
        }
      ]
    },
    {
      "cell_type": "markdown",
      "source": [
        "From true function value we can see that Coef and intercept should be equal to [3.25 ,1.47] , our linear model with gradiant desent model score [ 3.04774009, -0.29404279] which is better than the score optained from Linear regresseor [2.16798992, 2.475440436373688] most probably becuase linear regresseor uses the Ordinary Least Squares solver from scipy , rather than MAE"
      ],
      "metadata": {
        "id": "T-MMu0GcWddH"
      }
    },
    {
      "cell_type": "markdown",
      "metadata": {
        "id": "BOQ6wC8TQSGS"
      },
      "source": [
        "## Task 2 (2 + 1 points)"
      ]
    },
    {
      "cell_type": "markdown",
      "metadata": {
        "id": "YnHh6OnJQSGU"
      },
      "source": [
        "* Wrap your solution from the previous task into a class. Plot the learning curve and the final fit. Compare and comment your results with the previos ones. **(2 points)**\n",
        "\n",
        "* Make it possible to choose a loss function. **(1 point)**"
      ]
    },
    {
      "cell_type": "code",
      "execution_count": 112,
      "metadata": {
        "id": "4-PhpN9vQSGU"
      },
      "outputs": [],
      "source": [
        "from sklearn.base import BaseEstimator, RegressorMixin"
      ]
    },
    {
      "cell_type": "code",
      "execution_count": 143,
      "metadata": {
        "id": "-rQM9bwKQSGY"
      },
      "outputs": [],
      "source": [
        "class LinearRergessionSGD(BaseEstimator, RegressorMixin):\n",
        "    def __init__(self ,\n",
        "                 batch_size: int=10,\n",
        "                 lr: float=1e-2,\n",
        "                 n_iters: int=10,\n",
        "                 loss:str= \"MAE\") -> None:\n",
        "\n",
        "        methods_from = [\"MSE\", \"MAE\"]\n",
        "\n",
        "        self.batch_size = batch_size\n",
        "        self.lr = lr\n",
        "        self.n_iters = n_iters\n",
        "        self.loss = loss\n",
        "        self.w_history = []\n",
        "        if self.loss not in methods_from:\n",
        "           print (\"Error, the methods parameter can only be \", methods_from)\n",
        "\n",
        "\n",
        "    def fit(self, x, y):\n",
        "      #introduce a constant feature to account for the bias term to make the formulas simpler.\n",
        "      n = len(x)\n",
        "      self.n = n\n",
        "    \n",
        "      X_tmp = np.column_stack((x, np.ones(self.n)))\n",
        "      w  = np.random.randn(len(X_tmp[0]))\n",
        "\n",
        "      self.X = X_tmp\n",
        "      self.y = y\n",
        "\n",
        "      for i in trange(self.n_iters):\n",
        "         w -= self.lr * self.getGradient(w)\n",
        "         self.update_loss(w)\n",
        "      self.w = w\n",
        "\n",
        "        #raise NotImplementedError\n",
        "    def getGradient(self, weight):\n",
        "      methods_from = [\"MSE\", \"MAE\"]\n",
        "      if self.loss == \"MSE\":\n",
        "        gradient = -2 * (self.X.T @(self.y - self.X @ weight ))/ self.X.shape[0]\n",
        "      elif self.loss == 'MAE':\n",
        "         g_sign = np.sign(self.X @ weight - self.y)\n",
        "         gradient = np.sum(self.X * g_sign.reshape(self.n,1)/self.n , axis = 0)\n",
        "      return gradient\n",
        "    \n",
        "    def update_loss(self, weight):\n",
        "      if self.loss == \"MSE\":\n",
        "        self.w_history.append(((self.X @ weight - self.y)**2).mean())\n",
        "      elif self.loss == 'MAE':\n",
        "        self.w_history.append(np.mean(np.abs(self.X @ weight - self.y)))\n",
        "      \n",
        "    def clear_loss(self):\n",
        "      self.w_history.clear()\n",
        "\n",
        "\n",
        "    def predict(self, x):\n",
        "      print (x.shape)\n",
        "      x_expanded = np.column_stack((x, np.ones(len(x))))\n",
        "      print (x_expanded.shape)\n",
        "      print (self.w.shape)\n",
        "      return x_expanded @ self.w\n",
        "    \n",
        "    def fit_predict(self, x, y):\n",
        "      self.fit(x,y)\n",
        "      return self.predict(x)"
      ]
    },
    {
      "cell_type": "code",
      "source": [
        "model = LinearRergessionSGD(lr = 0.1, n_iters = 1000 ,loss =\"MAE\")"
      ],
      "metadata": {
        "id": "vF1WK9_Zg0dw"
      },
      "execution_count": 129,
      "outputs": []
    },
    {
      "cell_type": "code",
      "source": [
        "X.shape"
      ],
      "metadata": {
        "id": "ixRjziNwuthN",
        "outputId": "f68cb735-0b07-451c-b604-d34f20f7e412",
        "colab": {
          "base_uri": "https://localhost:8080/"
        }
      },
      "execution_count": 130,
      "outputs": [
        {
          "output_type": "execute_result",
          "data": {
            "text/plain": [
              "(300, 1)"
            ]
          },
          "metadata": {},
          "execution_count": 130
        }
      ]
    },
    {
      "cell_type": "code",
      "source": [
        "model.fit(X,y)"
      ],
      "metadata": {
        "id": "WMXeGLx5hFB9",
        "outputId": "b7bf838e-f42f-49de-c9a2-8ce494dfeaac",
        "colab": {
          "base_uri": "https://localhost:8080/"
        }
      },
      "execution_count": 131,
      "outputs": [
        {
          "output_type": "stream",
          "name": "stderr",
          "text": [
            "100%|██████████| 1000/1000 [00:00<00:00, 18974.97it/s]\n"
          ]
        }
      ]
    },
    {
      "cell_type": "code",
      "source": [
        "# Plotting the evolution of loss values\n",
        "plt.plot(model.w_history);\n",
        "plt.show()"
      ],
      "metadata": {
        "id": "4voGDVCYjk4V",
        "outputId": "3653739e-fe3c-4c2e-d98f-a4fde9aec377",
        "colab": {
          "base_uri": "https://localhost:8080/",
          "height": 265
        }
      },
      "execution_count": 132,
      "outputs": [
        {
          "output_type": "display_data",
          "data": {
            "text/plain": [
              "<Figure size 432x288 with 1 Axes>"
            ],
            "image/png": "[encoded data removed]"
          },
          "metadata": {
            "needs_background": "light"
          }
        }
      ]
    },
    {
      "cell_type": "code",
      "source": [
        "limits = (-4., 20.)\n",
        "x = np.linspace(*limits, 101)\n",
        "plt.plot(x, true_function(x), c='black', label='True dependence')\n",
        "plt.scatter(X, y, s=10, label='Data with noise and outliers')\n",
        "plt.plot(x, model.predict(x),c ='orange', label='prediction')\n",
        "plt.legend();\n"
      ],
      "metadata": {
        "id": "lVGvaXqmhLDw",
        "outputId": "9b89093b-91aa-420d-ee78-d29c32a40f07",
        "colab": {
          "base_uri": "https://localhost:8080/",
          "height": 282
        }
      },
      "execution_count": 133,
      "outputs": [
        {
          "output_type": "stream",
          "name": "stdout",
          "text": [
            "(101,)\n"
          ]
        },
        {
          "output_type": "display_data",
          "data": {
            "text/plain": [
              "<Figure size 432x288 with 1 Axes>"
            ],
            "image/png": "[encoded data removed]"
          },
          "metadata": {
            "needs_background": "light"
          }
        }
      ]
    },
    {
      "cell_type": "code",
      "source": [
        "print(model.w)"
      ],
      "metadata": {
        "id": "jVoIHgO2hx9G",
        "outputId": "4e8beeb5-5247-4ebf-83a5-a1dd2b46eb62",
        "colab": {
          "base_uri": "https://localhost:8080/"
        }
      },
      "execution_count": 134,
      "outputs": [
        {
          "output_type": "stream",
          "name": "stdout",
          "text": [
            "[ 3.06983354 -0.81123367]\n"
          ]
        }
      ]
    },
    {
      "cell_type": "markdown",
      "source": [
        "we can see that the values are close between the output of Task 1 [ 3.04774009 -0.29404279] and Task 2 [ 3.04318045 -0.2636259 ]"
      ],
      "metadata": {
        "id": "U9AyzSd7jvX_"
      }
    },
    {
      "cell_type": "code",
      "source": [
        "def true_function(x):\n",
        "  return np.sin(3 * x + 0.8) + np.sin(1. / (x + 1.23))"
      ],
      "metadata": {
        "id": "BtsrVZpdpjyJ"
      },
      "execution_count": 154,
      "outputs": []
    },
    {
      "cell_type": "code",
      "source": [
        "def gen_dataset(N, func, lims=(-1., 1.), noise_lvl=0.2):\n",
        "  x = np.random.uniform(*lims, size=N)\n",
        "  y = func(x) + noise_lvl * np.random.normal(size=x.shape)\n",
        "  return x[:,None], y"
      ],
      "metadata": {
        "id": "I_pkIhAapsiA"
      },
      "execution_count": 155,
      "outputs": []
    },
    {
      "cell_type": "code",
      "source": [
        "X, y = gen_dataset(25, true_function)"
      ],
      "metadata": {
        "id": "ZEYkk1mMppIL"
      },
      "execution_count": 156,
      "outputs": []
    },
    {
      "cell_type": "code",
      "source": [
        "from sklearn.preprocessing import PolynomialFeatures\n",
        "from sklearn.pipeline import make_pipeline"
      ],
      "metadata": {
        "id": "9nOhn3qdpzdu"
      },
      "execution_count": 157,
      "outputs": []
    },
    {
      "cell_type": "code",
      "source": [
        "poly_expand = PolynomialFeatures(5, include_bias=False)\n",
        "linear_model = LinearRergessionSGD(lr = 0.1, n_iters = 1000 ,loss =\"MAE\")\n",
        "model = make_pipeline(\n",
        "    poly_expand, linear_model\n",
        ")"
      ],
      "metadata": {
        "id": "i8F1U1WvpyDc"
      },
      "execution_count": 158,
      "outputs": []
    },
    {
      "cell_type": "code",
      "source": [
        "model.fit(X,y)"
      ],
      "metadata": {
        "id": "tbeDH3TgiEyX",
        "outputId": "3d7cfca2-52cd-4e97-aa5e-de36f731e3d2",
        "colab": {
          "base_uri": "https://localhost:8080/"
        }
      },
      "execution_count": 159,
      "outputs": [
        {
          "output_type": "stream",
          "name": "stderr",
          "text": [
            "100%|██████████| 1000/1000 [00:00<00:00, 24907.38it/s]\n"
          ]
        },
        {
          "output_type": "execute_result",
          "data": {
            "text/plain": [
              "Pipeline(steps=[('polynomialfeatures',\n",
              "                 PolynomialFeatures(degree=5, include_bias=False)),\n",
              "                ('linearrergessionsgd',\n",
              "                 LinearRergessionSGD(lr=0.1, n_iters=1000))])"
            ]
          },
          "metadata": {},
          "execution_count": 159
        }
      ]
    },
    {
      "cell_type": "code",
      "source": [
        "# Plotting the evolution of loss values\n",
        "plt.plot(linear_model.w_history);\n",
        "plt.show()"
      ],
      "metadata": {
        "id": "WaWsk-5Ap9od",
        "outputId": "edecae95-fcad-410e-c778-7c4c6dcb9bc0",
        "colab": {
          "base_uri": "https://localhost:8080/",
          "height": 265
        }
      },
      "execution_count": 160,
      "outputs": [
        {
          "output_type": "display_data",
          "data": {
            "text/plain": [
              "<Figure size 432x288 with 1 Axes>"
            ],
            "image/png": "[encoded data removed]"
          },
          "metadata": {
            "needs_background": "light"
          }
        }
      ]
    },
    {
      "cell_type": "code",
      "source": [
        "limits = (-1., 1.)\n",
        "x = np.linspace(*limits, 101)\n",
        "#x_expanded =  poly_expand.transform(x[:,None])\n",
        "plt.plot(x, true_function(x), c='black', label='True dependence')\n",
        "plt.scatter(X, y, s=10, label='Data with noise and outliers')\n",
        "plt.plot(x, model.predict(x[:,None]),c ='orange', label='prediction')\n",
        "plt.legend();\n"
      ],
      "metadata": {
        "id": "BxnVtGjnqAX_",
        "outputId": "24eef238-fac2-4f31-8c40-60edbe7b9249",
        "colab": {
          "base_uri": "https://localhost:8080/",
          "height": 317
        }
      },
      "execution_count": 161,
      "outputs": [
        {
          "output_type": "stream",
          "name": "stdout",
          "text": [
            "(101, 5)\n",
            "(101, 6)\n",
            "(6,)\n"
          ]
        },
        {
          "output_type": "display_data",
          "data": {
            "text/plain": [
              "<Figure size 432x288 with 1 Axes>"
            ],
            "image/png": "[encoded data removed]"
          },
          "metadata": {
            "needs_background": "light"
          }
        }
      ]
    },
    {
      "cell_type": "code",
      "source": [],
      "metadata": {
        "id": "duIPEaDctT8p"
      },
      "execution_count": null,
      "outputs": []
    }
  ],
  "metadata": {
    "colab": {
      "collapsed_sections": [],
      "name": "LinearRegression_HW.ipynb",
      "provenance": []
    },
    "kernelspec": {
      "display_name": "Python 3 (ipykernel)",
      "language": "python",
      "name": "python3"
    },
    "language_info": {
      "codemirror_mode": {
        "name": "ipython",
        "version": 3
      },
      "file_extension": ".py",
      "mimetype": "text/x-python",
      "name": "python",
      "nbconvert_exporter": "python",
      "pygments_lexer": "ipython3",
      "version": "3.8.11"
    }
  },
  "nbformat": 4,
  "nbformat_minor": 0
}